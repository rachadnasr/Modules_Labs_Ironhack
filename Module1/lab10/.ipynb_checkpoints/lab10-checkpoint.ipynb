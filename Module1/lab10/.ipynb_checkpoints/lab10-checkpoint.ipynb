{
 "cells": [
  {
   "cell_type": "markdown",
   "id": "de8c9a05",
   "metadata": {},
   "source": [
    "### Consider an array/list of sheep where some sheep may be missing from their place. We need a function that counts the number of sheep present in the array (true means present)."
   ]
  },
  {
   "cell_type": "code",
   "execution_count": 1,
   "id": "13f1f61d",
   "metadata": {},
   "outputs": [],
   "source": [
    "def count_sheeps(sheep):\n",
    "  # TODO May the force be with you\n",
    "    return sheep.count(True)"
   ]
  },
  {
   "cell_type": "markdown",
   "id": "b707029c",
   "metadata": {},
   "source": [
    "### Take an array and remove every second element from the array. Always keep the first element and start removing with the next element."
   ]
  },
  {
   "cell_type": "code",
   "execution_count": 1,
   "id": "1b642ce7",
   "metadata": {},
   "outputs": [],
   "source": [
    "def remove_every_other(my_list):\n",
    "    # Your code here!\n",
    "    new_list = []\n",
    "    for i in range(len(my_list)):\n",
    "        if i%2 == 0:\n",
    "            new_list.append(my_list[i])\n",
    "            \n",
    "    return new_list"
   ]
  },
  {
   "cell_type": "markdown",
   "id": "3374cdc8",
   "metadata": {},
   "source": [
    "### Convert number to reversed array of digits"
   ]
  },
  {
   "cell_type": "code",
   "execution_count": 2,
   "id": "b69d3efb",
   "metadata": {},
   "outputs": [],
   "source": [
    "def digitize(n):\n",
    "    n_array = [int(i) for i in str(n)]\n",
    "    n_reverse = n_array[::-1]\n",
    "    return n_reverse"
   ]
  },
  {
   "cell_type": "markdown",
   "id": "1a6baa6e",
   "metadata": {},
   "source": [
    "### Square every digit of a number and concatenate them."
   ]
  },
  {
   "cell_type": "code",
   "execution_count": 3,
   "id": "a85026ae",
   "metadata": {},
   "outputs": [],
   "source": [
    "def square_digits(num):\n",
    "    # Your code here\n",
    "    n_array = [int(i) for i in str(num)]\n",
    "    square_array = [n ** 2 for n in n_array]\n",
    "    join_char = ''.join(str(char) for char in square_array)\n",
    "    join_num = int(join_char)\n",
    "    \n",
    "    return join_num"
   ]
  },
  {
   "cell_type": "markdown",
   "id": "791d4645",
   "metadata": {},
   "source": [
    "### Method For Counting Total Occurence Of Specific Digits"
   ]
  },
  {
   "cell_type": "code",
   "execution_count": 4,
   "id": "87081a91",
   "metadata": {},
   "outputs": [],
   "source": [
    "class List(object):\n",
    "    def count_spec_digits(self, integers_list, digits_list):\n",
    "        # your code here\n",
    "        output_list=[]\n",
    "\n",
    "        i_str = [str(i) for i in integers_list]\n",
    "        i_str = ''.join(i_str)\n",
    "\n",
    "        for d in digits_list:\n",
    "            d_str = str(d)\n",
    "            count = i_str.count(d_str)\n",
    "            output_list.append((d, count))\n",
    "        return output_list"
   ]
  }
 ],
 "metadata": {
  "kernelspec": {
   "display_name": "Python 3 (ipykernel)",
   "language": "python",
   "name": "python3"
  },
  "language_info": {
   "codemirror_mode": {
    "name": "ipython",
    "version": 3
   },
   "file_extension": ".py",
   "mimetype": "text/x-python",
   "name": "python",
   "nbconvert_exporter": "python",
   "pygments_lexer": "ipython3",
   "version": "3.9.13"
  }
 },
 "nbformat": 4,
 "nbformat_minor": 5
}
