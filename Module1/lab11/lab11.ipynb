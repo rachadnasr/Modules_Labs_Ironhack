{
 "cells": [
  {
   "cell_type": "markdown",
   "id": "79593350",
   "metadata": {},
   "source": [
    "### Define a method/function that removes from a given array of integers all the values contained in a second array."
   ]
  },
  {
   "cell_type": "code",
   "execution_count": 44,
   "id": "0f64d2ee",
   "metadata": {},
   "outputs": [],
   "source": [
    "class List:\n",
    "    def remove_(self, integer_list, values_list):\n",
    "        #your code here\n",
    "        new_list=[]\n",
    "        new_list = [i for i in integer_list if i not in values_list]\n",
    "        return new_list"
   ]
  },
  {
   "cell_type": "markdown",
   "id": "30b05838",
   "metadata": {},
   "source": [
    "### Method For Counting Total Occurence Of Specific Digits"
   ]
  },
  {
   "cell_type": "markdown",
   "id": "35c675aa",
   "metadata": {},
   "source": [
    "Already done in lab10"
   ]
  },
  {
   "cell_type": "markdown",
   "id": "58fbc605",
   "metadata": {},
   "source": [
    "### Count the number of occurrences of each character and return it as a (list of tuples) in order of appearance. For empty output return (an empty list)."
   ]
  },
  {
   "cell_type": "code",
   "execution_count": 85,
   "id": "6492a9b9",
   "metadata": {},
   "outputs": [],
   "source": [
    "def ordered_count(inp):\n",
    "    new_list = []\n",
    "    for i in inp:\n",
    "        if i not in new_list:\n",
    "            new_list.append(i)\n",
    "    out = [(i, inp.count(i)) for i in new_list] \n",
    "    return out\n"
   ]
  }
 ],
 "metadata": {
  "kernelspec": {
   "display_name": "Python 3 (ipykernel)",
   "language": "python",
   "name": "python3"
  },
  "language_info": {
   "codemirror_mode": {
    "name": "ipython",
    "version": 3
   },
   "file_extension": ".py",
   "mimetype": "text/x-python",
   "name": "python",
   "nbconvert_exporter": "python",
   "pygments_lexer": "ipython3",
   "version": "3.9.13"
  }
 },
 "nbformat": 4,
 "nbformat_minor": 5
}
